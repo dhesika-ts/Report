{
 "cells": [
  {
   "cell_type": "code",
   "execution_count": 1,
   "id": "6205bc6d",
   "metadata": {},
   "outputs": [],
   "source": [
    "import pandas as pd\n",
    "import numpy as np\n",
    "import matplotlib.pyplot as plt"
   ]
  },
  {
   "cell_type": "code",
   "execution_count": 2,
   "id": "dfe4b586",
   "metadata": {},
   "outputs": [
    {
     "data": {
      "text/html": [
       "<div>\n",
       "<style scoped>\n",
       "    .dataframe tbody tr th:only-of-type {\n",
       "        vertical-align: middle;\n",
       "    }\n",
       "\n",
       "    .dataframe tbody tr th {\n",
       "        vertical-align: top;\n",
       "    }\n",
       "\n",
       "    .dataframe thead th {\n",
       "        text-align: right;\n",
       "    }\n",
       "</style>\n",
       "<table border=\"1\" class=\"dataframe\">\n",
       "  <thead>\n",
       "    <tr style=\"text-align: right;\">\n",
       "      <th></th>\n",
       "      <th>Order Number</th>\n",
       "      <th>Product Name</th>\n",
       "      <th>Order Type</th>\n",
       "      <th>Product Cost</th>\n",
       "      <th>Cash on Delivery</th>\n",
       "      <th>Product Unavailable Flag</th>\n",
       "      <th>Multi Mode TraNosport Flag</th>\n",
       "      <th>Speed Delivery Flag</th>\n",
       "      <th>Remote Location</th>\n",
       "      <th>Multi Hop Delivery</th>\n",
       "      <th>Product Size</th>\n",
       "    </tr>\n",
       "  </thead>\n",
       "  <tbody>\n",
       "    <tr>\n",
       "      <th>0</th>\n",
       "      <td>2503942</td>\n",
       "      <td>Product B</td>\n",
       "      <td>Additional</td>\n",
       "      <td>375.00</td>\n",
       "      <td>Y</td>\n",
       "      <td>N</td>\n",
       "      <td>Y</td>\n",
       "      <td>N</td>\n",
       "      <td>N</td>\n",
       "      <td>N</td>\n",
       "      <td>Large</td>\n",
       "    </tr>\n",
       "    <tr>\n",
       "      <th>1</th>\n",
       "      <td>2061728</td>\n",
       "      <td>Product B</td>\n",
       "      <td>Additional</td>\n",
       "      <td>555.51</td>\n",
       "      <td>N</td>\n",
       "      <td>Y</td>\n",
       "      <td>Y</td>\n",
       "      <td>N</td>\n",
       "      <td>N</td>\n",
       "      <td>Y</td>\n",
       "      <td>Large</td>\n",
       "    </tr>\n",
       "    <tr>\n",
       "      <th>2</th>\n",
       "      <td>2545860</td>\n",
       "      <td>Product B</td>\n",
       "      <td>Additional</td>\n",
       "      <td>2166.31</td>\n",
       "      <td>N</td>\n",
       "      <td>N</td>\n",
       "      <td>Y</td>\n",
       "      <td>N</td>\n",
       "      <td>N</td>\n",
       "      <td>N</td>\n",
       "      <td>Small</td>\n",
       "    </tr>\n",
       "    <tr>\n",
       "      <th>3</th>\n",
       "      <td>3564189</td>\n",
       "      <td>Product A</td>\n",
       "      <td>New</td>\n",
       "      <td>637.60</td>\n",
       "      <td>Y</td>\n",
       "      <td>N</td>\n",
       "      <td>Y</td>\n",
       "      <td>N</td>\n",
       "      <td>N</td>\n",
       "      <td>N</td>\n",
       "      <td>Medium</td>\n",
       "    </tr>\n",
       "    <tr>\n",
       "      <th>4</th>\n",
       "      <td>2335870</td>\n",
       "      <td>Product A</td>\n",
       "      <td>New</td>\n",
       "      <td>1497.11</td>\n",
       "      <td>Y</td>\n",
       "      <td>Y</td>\n",
       "      <td>Y</td>\n",
       "      <td>N</td>\n",
       "      <td>N</td>\n",
       "      <td>Y</td>\n",
       "      <td>Large</td>\n",
       "    </tr>\n",
       "    <tr>\n",
       "      <th>5</th>\n",
       "      <td>2390224</td>\n",
       "      <td>Product B</td>\n",
       "      <td>Additional</td>\n",
       "      <td>1015.75</td>\n",
       "      <td>Y</td>\n",
       "      <td>N</td>\n",
       "      <td>Y</td>\n",
       "      <td>N</td>\n",
       "      <td>N</td>\n",
       "      <td>N</td>\n",
       "      <td>Large</td>\n",
       "    </tr>\n",
       "    <tr>\n",
       "      <th>6</th>\n",
       "      <td>2899377</td>\n",
       "      <td>Product C</td>\n",
       "      <td>Additional</td>\n",
       "      <td>999.00</td>\n",
       "      <td>Y</td>\n",
       "      <td>N</td>\n",
       "      <td>Y</td>\n",
       "      <td>N</td>\n",
       "      <td>N</td>\n",
       "      <td>N</td>\n",
       "      <td>Large</td>\n",
       "    </tr>\n",
       "    <tr>\n",
       "      <th>7</th>\n",
       "      <td>1372184</td>\n",
       "      <td>Product C</td>\n",
       "      <td>Additional</td>\n",
       "      <td>1276.14</td>\n",
       "      <td>Y</td>\n",
       "      <td>Y</td>\n",
       "      <td>N</td>\n",
       "      <td>N</td>\n",
       "      <td>N</td>\n",
       "      <td>Y</td>\n",
       "      <td>Large</td>\n",
       "    </tr>\n",
       "    <tr>\n",
       "      <th>8</th>\n",
       "      <td>2480271</td>\n",
       "      <td>Product B</td>\n",
       "      <td>Additional</td>\n",
       "      <td>776.42</td>\n",
       "      <td>N</td>\n",
       "      <td>Y</td>\n",
       "      <td>Y</td>\n",
       "      <td>N</td>\n",
       "      <td>N</td>\n",
       "      <td>Y</td>\n",
       "      <td>Large</td>\n",
       "    </tr>\n",
       "    <tr>\n",
       "      <th>9</th>\n",
       "      <td>2593752</td>\n",
       "      <td>Product C</td>\n",
       "      <td>Additional</td>\n",
       "      <td>676.78</td>\n",
       "      <td>Y</td>\n",
       "      <td>Y</td>\n",
       "      <td>Y</td>\n",
       "      <td>N</td>\n",
       "      <td>N</td>\n",
       "      <td>Y</td>\n",
       "      <td>Large</td>\n",
       "    </tr>\n",
       "  </tbody>\n",
       "</table>\n",
       "</div>"
      ],
      "text/plain": [
       "   Order Number Product Name  Order Type  Product Cost Cash on Delivery  \\\n",
       "0       2503942    Product B  Additional        375.00                Y   \n",
       "1       2061728    Product B  Additional        555.51                N   \n",
       "2       2545860    Product B  Additional       2166.31                N   \n",
       "3       3564189    Product A         New        637.60                Y   \n",
       "4       2335870    Product A         New       1497.11                Y   \n",
       "5       2390224    Product B  Additional       1015.75                Y   \n",
       "6       2899377    Product C  Additional        999.00                Y   \n",
       "7       1372184    Product C  Additional       1276.14                Y   \n",
       "8       2480271    Product B  Additional        776.42                N   \n",
       "9       2593752    Product C  Additional        676.78                Y   \n",
       "\n",
       "  Product Unavailable Flag Multi Mode TraNosport Flag Speed Delivery Flag  \\\n",
       "0                        N                          Y                   N   \n",
       "1                        Y                          Y                   N   \n",
       "2                        N                          Y                   N   \n",
       "3                        N                          Y                   N   \n",
       "4                        Y                          Y                   N   \n",
       "5                        N                          Y                   N   \n",
       "6                        N                          Y                   N   \n",
       "7                        Y                          N                   N   \n",
       "8                        Y                          Y                   N   \n",
       "9                        Y                          Y                   N   \n",
       "\n",
       "  Remote Location Multi Hop Delivery Product Size  \n",
       "0               N                  N        Large  \n",
       "1               N                  Y        Large  \n",
       "2               N                  N        Small  \n",
       "3               N                  N       Medium  \n",
       "4               N                  Y        Large  \n",
       "5               N                  N        Large  \n",
       "6               N                  N        Large  \n",
       "7               N                  Y        Large  \n",
       "8               N                  Y        Large  \n",
       "9               N                  Y        Large  "
      ]
     },
     "execution_count": 2,
     "metadata": {},
     "output_type": "execute_result"
    }
   ],
   "source": [
    "df_1=pd.read_csv(\"order-delivery.csv\")\n",
    "df_1.head(10)"
   ]
  },
  {
   "cell_type": "code",
   "execution_count": 3,
   "id": "cc6f834f",
   "metadata": {},
   "outputs": [
    {
     "data": {
      "text/html": [
       "<div>\n",
       "<style scoped>\n",
       "    .dataframe tbody tr th:only-of-type {\n",
       "        vertical-align: middle;\n",
       "    }\n",
       "\n",
       "    .dataframe tbody tr th {\n",
       "        vertical-align: top;\n",
       "    }\n",
       "\n",
       "    .dataframe thead th {\n",
       "        text-align: right;\n",
       "    }\n",
       "</style>\n",
       "<table border=\"1\" class=\"dataframe\">\n",
       "  <thead>\n",
       "    <tr style=\"text-align: right;\">\n",
       "      <th></th>\n",
       "      <th>Order Number</th>\n",
       "      <th>Delivery Time</th>\n",
       "    </tr>\n",
       "  </thead>\n",
       "  <tbody>\n",
       "    <tr>\n",
       "      <th>0</th>\n",
       "      <td>2503942</td>\n",
       "      <td>23</td>\n",
       "    </tr>\n",
       "    <tr>\n",
       "      <th>1</th>\n",
       "      <td>2061728</td>\n",
       "      <td>114</td>\n",
       "    </tr>\n",
       "    <tr>\n",
       "      <th>2</th>\n",
       "      <td>2545860</td>\n",
       "      <td>46</td>\n",
       "    </tr>\n",
       "    <tr>\n",
       "      <th>3</th>\n",
       "      <td>3564189</td>\n",
       "      <td>21</td>\n",
       "    </tr>\n",
       "    <tr>\n",
       "      <th>4</th>\n",
       "      <td>2335870</td>\n",
       "      <td>92</td>\n",
       "    </tr>\n",
       "    <tr>\n",
       "      <th>5</th>\n",
       "      <td>2390224</td>\n",
       "      <td>16</td>\n",
       "    </tr>\n",
       "    <tr>\n",
       "      <th>6</th>\n",
       "      <td>2899377</td>\n",
       "      <td>97</td>\n",
       "    </tr>\n",
       "    <tr>\n",
       "      <th>7</th>\n",
       "      <td>1372184</td>\n",
       "      <td>574</td>\n",
       "    </tr>\n",
       "    <tr>\n",
       "      <th>8</th>\n",
       "      <td>2480271</td>\n",
       "      <td>234</td>\n",
       "    </tr>\n",
       "    <tr>\n",
       "      <th>9</th>\n",
       "      <td>2593752</td>\n",
       "      <td>153</td>\n",
       "    </tr>\n",
       "  </tbody>\n",
       "</table>\n",
       "</div>"
      ],
      "text/plain": [
       "   Order Number  Delivery Time\n",
       "0       2503942             23\n",
       "1       2061728            114\n",
       "2       2545860             46\n",
       "3       3564189             21\n",
       "4       2335870             92\n",
       "5       2390224             16\n",
       "6       2899377             97\n",
       "7       1372184            574\n",
       "8       2480271            234\n",
       "9       2593752            153"
      ]
     },
     "execution_count": 3,
     "metadata": {},
     "output_type": "execute_result"
    }
   ],
   "source": [
    "df_2=pd.read_excel(\"order-delivery-time.xlsx\")\n",
    "df_2.head(10)"
   ]
  },
  {
   "cell_type": "code",
   "execution_count": 4,
   "id": "e5ff469d",
   "metadata": {},
   "outputs": [
    {
     "data": {
      "text/html": [
       "<div>\n",
       "<style scoped>\n",
       "    .dataframe tbody tr th:only-of-type {\n",
       "        vertical-align: middle;\n",
       "    }\n",
       "\n",
       "    .dataframe tbody tr th {\n",
       "        vertical-align: top;\n",
       "    }\n",
       "\n",
       "    .dataframe thead th {\n",
       "        text-align: right;\n",
       "    }\n",
       "</style>\n",
       "<table border=\"1\" class=\"dataframe\">\n",
       "  <thead>\n",
       "    <tr style=\"text-align: right;\">\n",
       "      <th></th>\n",
       "      <th>Order Number</th>\n",
       "      <th>Product Name</th>\n",
       "      <th>Order Type</th>\n",
       "      <th>Product Cost</th>\n",
       "      <th>Cash on Delivery</th>\n",
       "      <th>Product Unavailable Flag</th>\n",
       "      <th>Multi Mode TraNosport Flag</th>\n",
       "      <th>Speed Delivery Flag</th>\n",
       "      <th>Remote Location</th>\n",
       "      <th>Multi Hop Delivery</th>\n",
       "      <th>Product Size</th>\n",
       "      <th>Delivery Time</th>\n",
       "    </tr>\n",
       "  </thead>\n",
       "  <tbody>\n",
       "    <tr>\n",
       "      <th>0</th>\n",
       "      <td>2503942</td>\n",
       "      <td>Product B</td>\n",
       "      <td>Additional</td>\n",
       "      <td>375.00</td>\n",
       "      <td>Y</td>\n",
       "      <td>N</td>\n",
       "      <td>Y</td>\n",
       "      <td>N</td>\n",
       "      <td>N</td>\n",
       "      <td>N</td>\n",
       "      <td>Large</td>\n",
       "      <td>23</td>\n",
       "    </tr>\n",
       "    <tr>\n",
       "      <th>1</th>\n",
       "      <td>2061728</td>\n",
       "      <td>Product B</td>\n",
       "      <td>Additional</td>\n",
       "      <td>555.51</td>\n",
       "      <td>N</td>\n",
       "      <td>Y</td>\n",
       "      <td>Y</td>\n",
       "      <td>N</td>\n",
       "      <td>N</td>\n",
       "      <td>Y</td>\n",
       "      <td>Large</td>\n",
       "      <td>114</td>\n",
       "    </tr>\n",
       "    <tr>\n",
       "      <th>2</th>\n",
       "      <td>2545860</td>\n",
       "      <td>Product B</td>\n",
       "      <td>Additional</td>\n",
       "      <td>2166.31</td>\n",
       "      <td>N</td>\n",
       "      <td>N</td>\n",
       "      <td>Y</td>\n",
       "      <td>N</td>\n",
       "      <td>N</td>\n",
       "      <td>N</td>\n",
       "      <td>Small</td>\n",
       "      <td>46</td>\n",
       "    </tr>\n",
       "    <tr>\n",
       "      <th>3</th>\n",
       "      <td>3564189</td>\n",
       "      <td>Product A</td>\n",
       "      <td>New</td>\n",
       "      <td>637.60</td>\n",
       "      <td>Y</td>\n",
       "      <td>N</td>\n",
       "      <td>Y</td>\n",
       "      <td>N</td>\n",
       "      <td>N</td>\n",
       "      <td>N</td>\n",
       "      <td>Medium</td>\n",
       "      <td>21</td>\n",
       "    </tr>\n",
       "    <tr>\n",
       "      <th>4</th>\n",
       "      <td>2335870</td>\n",
       "      <td>Product A</td>\n",
       "      <td>New</td>\n",
       "      <td>1497.11</td>\n",
       "      <td>Y</td>\n",
       "      <td>Y</td>\n",
       "      <td>Y</td>\n",
       "      <td>N</td>\n",
       "      <td>N</td>\n",
       "      <td>Y</td>\n",
       "      <td>Large</td>\n",
       "      <td>92</td>\n",
       "    </tr>\n",
       "    <tr>\n",
       "      <th>5</th>\n",
       "      <td>2390224</td>\n",
       "      <td>Product B</td>\n",
       "      <td>Additional</td>\n",
       "      <td>1015.75</td>\n",
       "      <td>Y</td>\n",
       "      <td>N</td>\n",
       "      <td>Y</td>\n",
       "      <td>N</td>\n",
       "      <td>N</td>\n",
       "      <td>N</td>\n",
       "      <td>Large</td>\n",
       "      <td>16</td>\n",
       "    </tr>\n",
       "    <tr>\n",
       "      <th>6</th>\n",
       "      <td>2899377</td>\n",
       "      <td>Product C</td>\n",
       "      <td>Additional</td>\n",
       "      <td>999.00</td>\n",
       "      <td>Y</td>\n",
       "      <td>N</td>\n",
       "      <td>Y</td>\n",
       "      <td>N</td>\n",
       "      <td>N</td>\n",
       "      <td>N</td>\n",
       "      <td>Large</td>\n",
       "      <td>97</td>\n",
       "    </tr>\n",
       "    <tr>\n",
       "      <th>7</th>\n",
       "      <td>1372184</td>\n",
       "      <td>Product C</td>\n",
       "      <td>Additional</td>\n",
       "      <td>1276.14</td>\n",
       "      <td>Y</td>\n",
       "      <td>Y</td>\n",
       "      <td>N</td>\n",
       "      <td>N</td>\n",
       "      <td>N</td>\n",
       "      <td>Y</td>\n",
       "      <td>Large</td>\n",
       "      <td>574</td>\n",
       "    </tr>\n",
       "    <tr>\n",
       "      <th>8</th>\n",
       "      <td>2480271</td>\n",
       "      <td>Product B</td>\n",
       "      <td>Additional</td>\n",
       "      <td>776.42</td>\n",
       "      <td>N</td>\n",
       "      <td>Y</td>\n",
       "      <td>Y</td>\n",
       "      <td>N</td>\n",
       "      <td>N</td>\n",
       "      <td>Y</td>\n",
       "      <td>Large</td>\n",
       "      <td>234</td>\n",
       "    </tr>\n",
       "    <tr>\n",
       "      <th>9</th>\n",
       "      <td>2593752</td>\n",
       "      <td>Product C</td>\n",
       "      <td>Additional</td>\n",
       "      <td>676.78</td>\n",
       "      <td>Y</td>\n",
       "      <td>Y</td>\n",
       "      <td>Y</td>\n",
       "      <td>N</td>\n",
       "      <td>N</td>\n",
       "      <td>Y</td>\n",
       "      <td>Large</td>\n",
       "      <td>153</td>\n",
       "    </tr>\n",
       "  </tbody>\n",
       "</table>\n",
       "</div>"
      ],
      "text/plain": [
       "   Order Number Product Name  Order Type  Product Cost Cash on Delivery  \\\n",
       "0       2503942    Product B  Additional        375.00                Y   \n",
       "1       2061728    Product B  Additional        555.51                N   \n",
       "2       2545860    Product B  Additional       2166.31                N   \n",
       "3       3564189    Product A         New        637.60                Y   \n",
       "4       2335870    Product A         New       1497.11                Y   \n",
       "5       2390224    Product B  Additional       1015.75                Y   \n",
       "6       2899377    Product C  Additional        999.00                Y   \n",
       "7       1372184    Product C  Additional       1276.14                Y   \n",
       "8       2480271    Product B  Additional        776.42                N   \n",
       "9       2593752    Product C  Additional        676.78                Y   \n",
       "\n",
       "  Product Unavailable Flag Multi Mode TraNosport Flag Speed Delivery Flag  \\\n",
       "0                        N                          Y                   N   \n",
       "1                        Y                          Y                   N   \n",
       "2                        N                          Y                   N   \n",
       "3                        N                          Y                   N   \n",
       "4                        Y                          Y                   N   \n",
       "5                        N                          Y                   N   \n",
       "6                        N                          Y                   N   \n",
       "7                        Y                          N                   N   \n",
       "8                        Y                          Y                   N   \n",
       "9                        Y                          Y                   N   \n",
       "\n",
       "  Remote Location Multi Hop Delivery Product Size  Delivery Time  \n",
       "0               N                  N        Large             23  \n",
       "1               N                  Y        Large            114  \n",
       "2               N                  N        Small             46  \n",
       "3               N                  N       Medium             21  \n",
       "4               N                  Y        Large             92  \n",
       "5               N                  N        Large             16  \n",
       "6               N                  N        Large             97  \n",
       "7               N                  Y        Large            574  \n",
       "8               N                  Y        Large            234  \n",
       "9               N                  Y        Large            153  "
      ]
     },
     "execution_count": 4,
     "metadata": {},
     "output_type": "execute_result"
    }
   ],
   "source": [
    "df=pd.merge(df_1,df_2,on='Order Number')\n",
    "df.head(10)"
   ]
  },
  {
   "cell_type": "code",
   "execution_count": 5,
   "id": "a3f068a1",
   "metadata": {},
   "outputs": [
    {
     "name": "stdout",
     "output_type": "stream",
     "text": [
      "['Product B' 'Product A' 'Product C' 'Product D']\n"
     ]
    }
   ],
   "source": [
    "print(df[\"Product Name\"].unique())"
   ]
  },
  {
   "cell_type": "code",
   "execution_count": 6,
   "id": "b7977412",
   "metadata": {},
   "outputs": [
    {
     "name": "stdout",
     "output_type": "stream",
     "text": [
      "['Additional' 'New']\n"
     ]
    }
   ],
   "source": [
    "print(df[\"Order Type\"].unique())"
   ]
  },
  {
   "cell_type": "code",
   "execution_count": 7,
   "id": "1124de0e",
   "metadata": {},
   "outputs": [
    {
     "data": {
      "text/html": [
       "<div>\n",
       "<style scoped>\n",
       "    .dataframe tbody tr th:only-of-type {\n",
       "        vertical-align: middle;\n",
       "    }\n",
       "\n",
       "    .dataframe tbody tr th {\n",
       "        vertical-align: top;\n",
       "    }\n",
       "\n",
       "    .dataframe thead th {\n",
       "        text-align: right;\n",
       "    }\n",
       "</style>\n",
       "<table border=\"1\" class=\"dataframe\">\n",
       "  <thead>\n",
       "    <tr style=\"text-align: right;\">\n",
       "      <th></th>\n",
       "      <th>Order Number</th>\n",
       "      <th>Product Cost</th>\n",
       "      <th>Delivery Time</th>\n",
       "    </tr>\n",
       "  </thead>\n",
       "  <tbody>\n",
       "    <tr>\n",
       "      <th>count</th>\n",
       "      <td>7.807000e+03</td>\n",
       "      <td>7807.000000</td>\n",
       "      <td>7807.000000</td>\n",
       "    </tr>\n",
       "    <tr>\n",
       "      <th>mean</th>\n",
       "      <td>2.828361e+06</td>\n",
       "      <td>1198.549240</td>\n",
       "      <td>89.548610</td>\n",
       "    </tr>\n",
       "    <tr>\n",
       "      <th>std</th>\n",
       "      <td>7.311594e+05</td>\n",
       "      <td>1248.550426</td>\n",
       "      <td>103.910767</td>\n",
       "    </tr>\n",
       "    <tr>\n",
       "      <th>min</th>\n",
       "      <td>1.013417e+06</td>\n",
       "      <td>28.800000</td>\n",
       "      <td>13.000000</td>\n",
       "    </tr>\n",
       "    <tr>\n",
       "      <th>25%</th>\n",
       "      <td>2.316644e+06</td>\n",
       "      <td>521.445000</td>\n",
       "      <td>32.000000</td>\n",
       "    </tr>\n",
       "    <tr>\n",
       "      <th>50%</th>\n",
       "      <td>2.823562e+06</td>\n",
       "      <td>868.160000</td>\n",
       "      <td>56.000000</td>\n",
       "    </tr>\n",
       "    <tr>\n",
       "      <th>75%</th>\n",
       "      <td>3.408601e+06</td>\n",
       "      <td>1408.410000</td>\n",
       "      <td>104.000000</td>\n",
       "    </tr>\n",
       "    <tr>\n",
       "      <th>max</th>\n",
       "      <td>4.303141e+06</td>\n",
       "      <td>24464.580000</td>\n",
       "      <td>952.000000</td>\n",
       "    </tr>\n",
       "  </tbody>\n",
       "</table>\n",
       "</div>"
      ],
      "text/plain": [
       "       Order Number  Product Cost  Delivery Time\n",
       "count  7.807000e+03   7807.000000    7807.000000\n",
       "mean   2.828361e+06   1198.549240      89.548610\n",
       "std    7.311594e+05   1248.550426     103.910767\n",
       "min    1.013417e+06     28.800000      13.000000\n",
       "25%    2.316644e+06    521.445000      32.000000\n",
       "50%    2.823562e+06    868.160000      56.000000\n",
       "75%    3.408601e+06   1408.410000     104.000000\n",
       "max    4.303141e+06  24464.580000     952.000000"
      ]
     },
     "execution_count": 7,
     "metadata": {},
     "output_type": "execute_result"
    }
   ],
   "source": [
    "df.describe()"
   ]
  },
  {
   "cell_type": "code",
   "execution_count": 8,
   "id": "d6fad1c6",
   "metadata": {},
   "outputs": [
    {
     "name": "stdout",
     "output_type": "stream",
     "text": [
      "<class 'pandas.core.frame.DataFrame'>\n",
      "Int64Index: 7807 entries, 0 to 7806\n",
      "Data columns (total 12 columns):\n",
      " #   Column                      Non-Null Count  Dtype  \n",
      "---  ------                      --------------  -----  \n",
      " 0   Order Number                7807 non-null   int64  \n",
      " 1   Product Name                7807 non-null   object \n",
      " 2   Order Type                  7807 non-null   object \n",
      " 3   Product Cost                7807 non-null   float64\n",
      " 4   Cash on Delivery            7807 non-null   object \n",
      " 5   Product Unavailable Flag    7807 non-null   object \n",
      " 6   Multi Mode TraNosport Flag  7807 non-null   object \n",
      " 7   Speed Delivery Flag         7807 non-null   object \n",
      " 8   Remote Location             7807 non-null   object \n",
      " 9   Multi Hop Delivery          7807 non-null   object \n",
      " 10  Product Size                7807 non-null   object \n",
      " 11  Delivery Time               7807 non-null   int64  \n",
      "dtypes: float64(1), int64(2), object(9)\n",
      "memory usage: 792.9+ KB\n"
     ]
    }
   ],
   "source": [
    "df.info()"
   ]
  },
  {
   "cell_type": "code",
   "execution_count": 9,
   "id": "066819a8",
   "metadata": {},
   "outputs": [
    {
     "data": {
      "text/plain": [
       "Order Number                  0\n",
       "Product Name                  0\n",
       "Order Type                    0\n",
       "Product Cost                  0\n",
       "Cash on Delivery              0\n",
       "Product Unavailable Flag      0\n",
       "Multi Mode TraNosport Flag    0\n",
       "Speed Delivery Flag           0\n",
       "Remote Location               0\n",
       "Multi Hop Delivery            0\n",
       "Product Size                  0\n",
       "Delivery Time                 0\n",
       "dtype: int64"
      ]
     },
     "execution_count": 9,
     "metadata": {},
     "output_type": "execute_result"
    }
   ],
   "source": [
    "df.isna().sum()"
   ]
  },
  {
   "cell_type": "code",
   "execution_count": 10,
   "id": "be30628c",
   "metadata": {},
   "outputs": [
    {
     "data": {
      "text/plain": [
       "<AxesSubplot:xlabel='Product Name'>"
      ]
     },
     "execution_count": 10,
     "metadata": {},
     "output_type": "execute_result"
    },
    {
     "data": {
      "image/png": "[encoded data removed]",
      "text/plain": [
       "<Figure size 432x288 with 1 Axes>"
      ]
     },
     "metadata": {
      "needs_background": "light"
     },
     "output_type": "display_data"
    }
   ],
   "source": [
    "df.groupby(\"Product Name\")[\"Delivery Time\"].sum().plot.bar()"
   ]
  },
  {
   "cell_type": "code",
   "execution_count": 11,
   "id": "3d8d0787",
   "metadata": {},
   "outputs": [
    {
     "data": {
      "text/plain": [
       "<AxesSubplot:ylabel='Delivery Time'>"
      ]
     },
     "execution_count": 11,
     "metadata": {},
     "output_type": "execute_result"
    },
    {
     "data": {
      "image/png": "[encoded data removed]",
      "text/plain": [
       "<Figure size 432x288 with 1 Axes>"
      ]
     },
     "metadata": {},
     "output_type": "display_data"
    }
   ],
   "source": [
    "df.groupby(\"Product Name\")[\"Delivery Time\"].sum().plot.pie(autopct=\"%1.0f%%\")"
   ]
  },
  {
   "cell_type": "code",
   "execution_count": 12,
   "id": "bae4381e",
   "metadata": {},
   "outputs": [
    {
     "data": {
      "text/plain": [
       "<AxesSubplot:xlabel='Order Type'>"
      ]
     },
     "execution_count": 12,
     "metadata": {},
     "output_type": "execute_result"
    },
    {
     "data": {
      "image/png": "[encoded data removed]",
      "text/plain": [
       "<Figure size 432x288 with 1 Axes>"
      ]
     },
     "metadata": {
      "needs_background": "light"
     },
     "output_type": "display_data"
    }
   ],
   "source": [
    "df.groupby(\"Order Type\")[\"Delivery Time\"].sum().plot.bar()"
   ]
  },
  {
   "cell_type": "code",
   "execution_count": 13,
   "id": "af57e831",
   "metadata": {},
   "outputs": [
    {
     "data": {
      "text/plain": [
       "<AxesSubplot:xlabel='Cash on Delivery'>"
      ]
     },
     "execution_count": 13,
     "metadata": {},
     "output_type": "execute_result"
    },
    {
     "data": {
      "image/png": "[encoded data removed]",
      "text/plain": [
       "<Figure size 432x288 with 1 Axes>"
      ]
     },
     "metadata": {
      "needs_background": "light"
     },
     "output_type": "display_data"
    }
   ],
   "source": [
    "df.groupby(\"Cash on Delivery\")[\"Delivery Time\"].sum().plot.bar()"
   ]
  },
  {
   "cell_type": "code",
   "execution_count": 14,
   "id": "e7bdfdeb",
   "metadata": {},
   "outputs": [
    {
     "data": {
      "text/plain": [
       "<AxesSubplot:xlabel='Product Unavailable Flag'>"
      ]
     },
     "execution_count": 14,
     "metadata": {},
     "output_type": "execute_result"
    },
    {
     "data": {
      "image/png": "[encoded data removed]",
      "text/plain": [
       "<Figure size 432x288 with 1 Axes>"
      ]
     },
     "metadata": {
      "needs_background": "light"
     },
     "output_type": "display_data"
    }
   ],
   "source": [
    "df.groupby(\"Product Unavailable Flag\")[\"Delivery Time\"].sum().plot.bar()"
   ]
  },
  {
   "cell_type": "code",
   "execution_count": 15,
   "id": "c150c7c2",
   "metadata": {},
   "outputs": [
    {
     "data": {
      "text/plain": [
       "<AxesSubplot:xlabel='Multi Mode TraNosport Flag'>"
      ]
     },
     "execution_count": 15,
     "metadata": {},
     "output_type": "execute_result"
    },
    {
     "data": {
      "image/png": "[encoded data removed]",
      "text/plain": [
       "<Figure size 432x288 with 1 Axes>"
      ]
     },
     "metadata": {
      "needs_background": "light"
     },
     "output_type": "display_data"
    }
   ],
   "source": [
    "df.groupby(\"Multi Mode TraNosport Flag\")[\"Delivery Time\"].sum().plot.bar()"
   ]
  },
  {
   "cell_type": "code",
   "execution_count": 16,
   "id": "e540a837",
   "metadata": {},
   "outputs": [
    {
     "data": {
      "text/plain": [
       "<AxesSubplot:ylabel='Delivery Time'>"
      ]
     },
     "execution_count": 16,
     "metadata": {},
     "output_type": "execute_result"
    },
    {
     "data": {
      "image/png": "[encoded data removed]",
      "text/plain": [
       "<Figure size 432x288 with 1 Axes>"
      ]
     },
     "metadata": {},
     "output_type": "display_data"
    }
   ],
   "source": [
    "df.groupby(\"Multi Mode TraNosport Flag\")[\"Delivery Time\"].sum().plot.pie(autopct=\"%1.0f%%\")"
   ]
  },
  {
   "cell_type": "code",
   "execution_count": 17,
   "id": "ccc0fe91",
   "metadata": {},
   "outputs": [
    {
     "data": {
      "text/plain": [
       "<AxesSubplot:xlabel='Speed Delivery Flag'>"
      ]
     },
     "execution_count": 17,
     "metadata": {},
     "output_type": "execute_result"
    },
    {
     "data": {
      "image/png": "[encoded data removed]",
      "text/plain": [
       "<Figure size 432x288 with 1 Axes>"
      ]
     },
     "metadata": {
      "needs_background": "light"
     },
     "output_type": "display_data"
    }
   ],
   "source": [
    "df.groupby(\"Speed Delivery Flag\")[\"Delivery Time\"].sum().plot.bar()"
   ]
  },
  {
   "cell_type": "code",
   "execution_count": 18,
   "id": "ccb855ef",
   "metadata": {},
   "outputs": [
    {
     "data": {
      "text/plain": [
       "<AxesSubplot:ylabel='Delivery Time'>"
      ]
     },
     "execution_count": 18,
     "metadata": {},
     "output_type": "execute_result"
    },
    {
     "data": {
      "image/png": "[encoded data removed]",
      "text/plain": [
       "<Figure size 432x288 with 1 Axes>"
      ]
     },
     "metadata": {},
     "output_type": "display_data"
    }
   ],
   "source": [
    "df.groupby(\"Speed Delivery Flag\")[\"Delivery Time\"].sum().plot.pie(autopct=\"%1.0f%%\")"
   ]
  },
  {
   "cell_type": "code",
   "execution_count": 19,
   "id": "00202df6",
   "metadata": {},
   "outputs": [
    {
     "data": {
      "text/plain": [
       "<AxesSubplot:xlabel='Remote Location'>"
      ]
     },
     "execution_count": 19,
     "metadata": {},
     "output_type": "execute_result"
    },
    {
     "data": {
      "image/png": "[encoded data removed]",
      "text/plain": [
       "<Figure size 432x288 with 1 Axes>"
      ]
     },
     "metadata": {
      "needs_background": "light"
     },
     "output_type": "display_data"
    }
   ],
   "source": [
    "df.groupby(\"Remote Location\")[\"Delivery Time\"].sum().plot.bar()"
   ]
  },
  {
   "cell_type": "code",
   "execution_count": 20,
   "id": "8cdf9871",
   "metadata": {},
   "outputs": [
    {
     "data": {
      "text/plain": [
       "<AxesSubplot:xlabel='Multi Hop Delivery'>"
      ]
     },
     "execution_count": 20,
     "metadata": {},
     "output_type": "execute_result"
    },
    {
     "data": {
      "image/png": "[encoded data removed]",
      "text/plain": [
       "<Figure size 432x288 with 1 Axes>"
      ]
     },
     "metadata": {
      "needs_background": "light"
     },
     "output_type": "display_data"
    }
   ],
   "source": [
    "df.groupby(\"Multi Hop Delivery\")[\"Delivery Time\"].sum().plot.bar()"
   ]
  },
  {
   "cell_type": "code",
   "execution_count": 21,
   "id": "92471de1",
   "metadata": {},
   "outputs": [
    {
     "data": {
      "text/plain": [
       "<AxesSubplot:ylabel='Delivery Time'>"
      ]
     },
     "execution_count": 21,
     "metadata": {},
     "output_type": "execute_result"
    },
    {
     "data": {
      "image/png": "[encoded data removed]",
      "text/plain": [
       "<Figure size 432x288 with 1 Axes>"
      ]
     },
     "metadata": {},
     "output_type": "display_data"
    }
   ],
   "source": [
    "df.groupby(\"Product Size\")[\"Delivery Time\"].sum().plot.pie(autopct=\"%1.0f%%\")"
   ]
  },
  {
   "cell_type": "code",
   "execution_count": 22,
   "id": "5ab28f31",
   "metadata": {},
   "outputs": [
    {
     "data": {
      "image/png": "[encoded data removed]",
      "text/plain": [
       "<Figure size 432x288 with 1 Axes>"
      ]
     },
     "metadata": {
      "needs_background": "light"
     },
     "output_type": "display_data"
    }
   ],
   "source": [
    "import seaborn as sns\n",
    "subcat=df.groupby('Product Size')[\"Delivery Time\"].sum().sort_values(ascending=False)\n",
    "plt.figurefigsize=(10,6)\n",
    "sns.barplot(x=subcat.index,y=subcat.values)\n",
    "plt.xticks(rotation=45)\n",
    "plt.show()"
   ]
  },
  {
   "cell_type": "code",
   "execution_count": 23,
   "id": "6f76c721",
   "metadata": {},
   "outputs": [],
   "source": [
    "from sklearn.model_selection import train_test_split\n",
    "from sklearn.linear_model import LinearRegression\n",
    "from sklearn.metrics import mean_squared_error"
   ]
  },
  {
   "cell_type": "code",
   "execution_count": 24,
   "id": "b8f3fd97",
   "metadata": {},
   "outputs": [
    {
     "data": {
      "text/html": [
       "<div>\n",
       "<style scoped>\n",
       "    .dataframe tbody tr th:only-of-type {\n",
       "        vertical-align: middle;\n",
       "    }\n",
       "\n",
       "    .dataframe tbody tr th {\n",
       "        vertical-align: top;\n",
       "    }\n",
       "\n",
       "    .dataframe thead th {\n",
       "        text-align: right;\n",
       "    }\n",
       "</style>\n",
       "<table border=\"1\" class=\"dataframe\">\n",
       "  <thead>\n",
       "    <tr style=\"text-align: right;\">\n",
       "      <th></th>\n",
       "      <th>Order Number</th>\n",
       "      <th>Product Cost</th>\n",
       "      <th>Delivery Time</th>\n",
       "    </tr>\n",
       "  </thead>\n",
       "  <tbody>\n",
       "    <tr>\n",
       "      <th>Order Number</th>\n",
       "      <td>1.000000</td>\n",
       "      <td>0.041683</td>\n",
       "      <td>-0.599220</td>\n",
       "    </tr>\n",
       "    <tr>\n",
       "      <th>Product Cost</th>\n",
       "      <td>0.041683</td>\n",
       "      <td>1.000000</td>\n",
       "      <td>-0.043012</td>\n",
       "    </tr>\n",
       "    <tr>\n",
       "      <th>Delivery Time</th>\n",
       "      <td>-0.599220</td>\n",
       "      <td>-0.043012</td>\n",
       "      <td>1.000000</td>\n",
       "    </tr>\n",
       "  </tbody>\n",
       "</table>\n",
       "</div>"
      ],
      "text/plain": [
       "               Order Number  Product Cost  Delivery Time\n",
       "Order Number       1.000000      0.041683      -0.599220\n",
       "Product Cost       0.041683      1.000000      -0.043012\n",
       "Delivery Time     -0.599220     -0.043012       1.000000"
      ]
     },
     "execution_count": 24,
     "metadata": {},
     "output_type": "execute_result"
    }
   ],
   "source": [
    "df.corr()"
   ]
  },
  {
   "cell_type": "code",
   "execution_count": 25,
   "id": "551ee12c",
   "metadata": {},
   "outputs": [
    {
     "data": {
      "text/html": [
       "<div>\n",
       "<style scoped>\n",
       "    .dataframe tbody tr th:only-of-type {\n",
       "        vertical-align: middle;\n",
       "    }\n",
       "\n",
       "    .dataframe tbody tr th {\n",
       "        vertical-align: top;\n",
       "    }\n",
       "\n",
       "    .dataframe thead th {\n",
       "        text-align: right;\n",
       "    }\n",
       "</style>\n",
       "<table border=\"1\" class=\"dataframe\">\n",
       "  <thead>\n",
       "    <tr style=\"text-align: right;\">\n",
       "      <th></th>\n",
       "      <th>Order Number</th>\n",
       "      <th>Product Cost</th>\n",
       "      <th>Delivery Time</th>\n",
       "    </tr>\n",
       "  </thead>\n",
       "  <tbody>\n",
       "    <tr>\n",
       "      <th>Order Number</th>\n",
       "      <td>1.000000</td>\n",
       "      <td>0.041683</td>\n",
       "      <td>-0.599220</td>\n",
       "    </tr>\n",
       "    <tr>\n",
       "      <th>Product Cost</th>\n",
       "      <td>0.041683</td>\n",
       "      <td>1.000000</td>\n",
       "      <td>-0.043012</td>\n",
       "    </tr>\n",
       "    <tr>\n",
       "      <th>Delivery Time</th>\n",
       "      <td>-0.599220</td>\n",
       "      <td>-0.043012</td>\n",
       "      <td>1.000000</td>\n",
       "    </tr>\n",
       "  </tbody>\n",
       "</table>\n",
       "</div>"
      ],
      "text/plain": [
       "               Order Number  Product Cost  Delivery Time\n",
       "Order Number       1.000000      0.041683      -0.599220\n",
       "Product Cost       0.041683      1.000000      -0.043012\n",
       "Delivery Time     -0.599220     -0.043012       1.000000"
      ]
     },
     "execution_count": 25,
     "metadata": {},
     "output_type": "execute_result"
    }
   ],
   "source": [
    "df.corr()"
   ]
  },
  {
   "cell_type": "code",
   "execution_count": 26,
   "id": "66c5eb2c",
   "metadata": {},
   "outputs": [
    {
     "data": {
      "text/html": [
       "<div>\n",
       "<style scoped>\n",
       "    .dataframe tbody tr th:only-of-type {\n",
       "        vertical-align: middle;\n",
       "    }\n",
       "\n",
       "    .dataframe tbody tr th {\n",
       "        vertical-align: top;\n",
       "    }\n",
       "\n",
       "    .dataframe thead th {\n",
       "        text-align: right;\n",
       "    }\n",
       "</style>\n",
       "<table border=\"1\" class=\"dataframe\">\n",
       "  <thead>\n",
       "    <tr style=\"text-align: right;\">\n",
       "      <th></th>\n",
       "      <th>Order Number</th>\n",
       "      <th>Product Cost</th>\n",
       "      <th>Multi Mode TraNosport Flag</th>\n",
       "      <th>Multi Hop Delivery</th>\n",
       "      <th>Delivery Time</th>\n",
       "    </tr>\n",
       "  </thead>\n",
       "  <tbody>\n",
       "    <tr>\n",
       "      <th>Order Number</th>\n",
       "      <td>1.000000</td>\n",
       "      <td>0.041683</td>\n",
       "      <td>-0.046464</td>\n",
       "      <td>-0.104815</td>\n",
       "      <td>-0.599220</td>\n",
       "    </tr>\n",
       "    <tr>\n",
       "      <th>Product Cost</th>\n",
       "      <td>0.041683</td>\n",
       "      <td>1.000000</td>\n",
       "      <td>-0.070945</td>\n",
       "      <td>-0.121707</td>\n",
       "      <td>-0.043012</td>\n",
       "    </tr>\n",
       "    <tr>\n",
       "      <th>Multi Mode TraNosport Flag</th>\n",
       "      <td>-0.046464</td>\n",
       "      <td>-0.070945</td>\n",
       "      <td>1.000000</td>\n",
       "      <td>0.038620</td>\n",
       "      <td>0.041208</td>\n",
       "    </tr>\n",
       "    <tr>\n",
       "      <th>Multi Hop Delivery</th>\n",
       "      <td>-0.104815</td>\n",
       "      <td>-0.121707</td>\n",
       "      <td>0.038620</td>\n",
       "      <td>1.000000</td>\n",
       "      <td>0.161799</td>\n",
       "    </tr>\n",
       "    <tr>\n",
       "      <th>Delivery Time</th>\n",
       "      <td>-0.599220</td>\n",
       "      <td>-0.043012</td>\n",
       "      <td>0.041208</td>\n",
       "      <td>0.161799</td>\n",
       "      <td>1.000000</td>\n",
       "    </tr>\n",
       "  </tbody>\n",
       "</table>\n",
       "</div>"
      ],
      "text/plain": [
       "                            Order Number  Product Cost  \\\n",
       "Order Number                    1.000000      0.041683   \n",
       "Product Cost                    0.041683      1.000000   \n",
       "Multi Mode TraNosport Flag     -0.046464     -0.070945   \n",
       "Multi Hop Delivery             -0.104815     -0.121707   \n",
       "Delivery Time                  -0.599220     -0.043012   \n",
       "\n",
       "                            Multi Mode TraNosport Flag  Multi Hop Delivery  \\\n",
       "Order Number                                 -0.046464           -0.104815   \n",
       "Product Cost                                 -0.070945           -0.121707   \n",
       "Multi Mode TraNosport Flag                    1.000000            0.038620   \n",
       "Multi Hop Delivery                            0.038620            1.000000   \n",
       "Delivery Time                                 0.041208            0.161799   \n",
       "\n",
       "                            Delivery Time  \n",
       "Order Number                    -0.599220  \n",
       "Product Cost                    -0.043012  \n",
       "Multi Mode TraNosport Flag       0.041208  \n",
       "Multi Hop Delivery               0.161799  \n",
       "Delivery Time                    1.000000  "
      ]
     },
     "execution_count": 26,
     "metadata": {},
     "output_type": "execute_result"
    }
   ],
   "source": [
    "df['Multi Hop Delivery'] = df['Multi Hop Delivery'].replace('N', 0)\n",
    "df['Multi Hop Delivery'] = df['Multi Hop Delivery'].replace('Y', 1)\n",
    "df['Multi Mode TraNosport Flag'] = df['Multi Mode TraNosport Flag'].replace('N', 0)\n",
    "df['Multi Mode TraNosport Flag'] = df['Multi Mode TraNosport Flag'].replace('Y', 1)\n",
    "df.corr()"
   ]
  },
  {
   "cell_type": "code",
   "execution_count": 27,
   "id": "32e7c5cc",
   "metadata": {},
   "outputs": [],
   "source": [
    "X = df['Order Number'].values\n",
    "y = df['Delivery Time'].values"
   ]
  },
  {
   "cell_type": "code",
   "execution_count": 28,
   "id": "6ab1e64b",
   "metadata": {},
   "outputs": [],
   "source": [
    "X_train, X_test, y_train, y_test = train_test_split(X, y, test_size=0.2, random_state=42)"
   ]
  },
  {
   "cell_type": "code",
   "execution_count": 29,
   "id": "e996ba92",
   "metadata": {},
   "outputs": [
    {
     "data": {
      "text/plain": [
       "LinearRegression()"
      ]
     },
     "execution_count": 29,
     "metadata": {},
     "output_type": "execute_result"
    }
   ],
   "source": [
    "model = LinearRegression()\n",
    "y_train_reshaped = np.array(y_train).reshape(-1, 1)\n",
    "X_train_reshaped = np.array(X_train).reshape(-1, 1)\n",
    "X_test_reshaped = np.array(X_test).reshape(-1, 1)\n",
    "y_test_reshaped = np.array(y_test).reshape(-1, 1)\n",
    "# Create and fit the linear regression model\n",
    "model = LinearRegression()\n",
    "model.fit(X_train_reshaped, y_train_reshaped)"
   ]
  },
  {
   "cell_type": "code",
   "execution_count": 30,
   "id": "cf98b686",
   "metadata": {},
   "outputs": [
    {
     "name": "stdout",
     "output_type": "stream",
     "text": [
      "6162.101354289584\n"
     ]
    }
   ],
   "source": [
    "y_pred=model.predict(X_test_reshaped)\n",
    "mse=mean_squared_error(y_test,y_pred)\n",
    "print(mse)"
   ]
  },
  {
   "cell_type": "code",
   "execution_count": 31,
   "id": "dd9de563",
   "metadata": {},
   "outputs": [
    {
     "name": "stdout",
     "output_type": "stream",
     "text": [
      "0.33802296549654254\n"
     ]
    }
   ],
   "source": [
    "from sklearn.metrics import r2_score\n",
    "r2 = r2_score(y_test, y_pred)\n",
    "print(r2)"
   ]
  },
  {
   "cell_type": "code",
   "execution_count": 32,
   "id": "26054afb",
   "metadata": {},
   "outputs": [
    {
     "name": "stdout",
     "output_type": "stream",
     "text": [
      "Coefficients: [[-8.7166019e-05]]\n",
      "Intercept: [336.32928155]\n"
     ]
    }
   ],
   "source": [
    "print('Coefficients:', model.coef_)\n",
    "print('Intercept:', model.intercept_)"
   ]
  },
  {
   "cell_type": "code",
   "execution_count": 33,
   "id": "f76ff660",
   "metadata": {},
   "outputs": [
    {
     "data": {
      "image/png": "[encoded data removed]",
      "text/plain": [
       "<Figure size 720x432 with 1 Axes>"
      ]
     },
     "metadata": {
      "needs_background": "light"
     },
     "output_type": "display_data"
    }
   ],
   "source": [
    "results = pd.DataFrame({'Actual': y_test, 'Predicted': y_pred.flatten()})\n",
    "\n",
    "# Sort the DataFrame based on the 'Actual' values for better visualization\n",
    "results.sort_values(by='Actual', inplace=True)\n",
    "\n",
    "# Plot the original and predicted values\n",
    "plt.figure(figsize=(10, 6))\n",
    "plt.plot(results['Actual'].values, label='Actual')\n",
    "plt.plot(results['Predicted'].values, label='Predicted')\n",
    "plt.title('Actual vs Predicted Values')\n",
    "plt.xlabel('Data Points')\n",
    "plt.ylabel('Values')\n",
    "plt.legend()\n",
    "plt.show()"
   ]
  },
  {
   "cell_type": "code",
   "execution_count": 34,
   "id": "0f329ab2",
   "metadata": {},
   "outputs": [],
   "source": [
    "df['Product Name'] = df['Product Name'].replace('Product A', 0)\n",
    "df['Product Name'] = df['Product Name'].replace('Product B', 1)\n",
    "df['Product Name'] = df['Product Name'].replace('Product C', 2)\n",
    "df['Product Name'] = df['Product Name'].replace('Product D', 3)"
   ]
  },
  {
   "cell_type": "code",
   "execution_count": 35,
   "id": "657929a4",
   "metadata": {},
   "outputs": [
    {
     "data": {
      "text/html": [
       "<div>\n",
       "<style scoped>\n",
       "    .dataframe tbody tr th:only-of-type {\n",
       "        vertical-align: middle;\n",
       "    }\n",
       "\n",
       "    .dataframe tbody tr th {\n",
       "        vertical-align: top;\n",
       "    }\n",
       "\n",
       "    .dataframe thead th {\n",
       "        text-align: right;\n",
       "    }\n",
       "</style>\n",
       "<table border=\"1\" class=\"dataframe\">\n",
       "  <thead>\n",
       "    <tr style=\"text-align: right;\">\n",
       "      <th></th>\n",
       "      <th>Order Number</th>\n",
       "      <th>Product Name</th>\n",
       "      <th>Product Cost</th>\n",
       "      <th>Multi Mode TraNosport Flag</th>\n",
       "      <th>Multi Hop Delivery</th>\n",
       "      <th>Delivery Time</th>\n",
       "    </tr>\n",
       "  </thead>\n",
       "  <tbody>\n",
       "    <tr>\n",
       "      <th>Order Number</th>\n",
       "      <td>1.000000</td>\n",
       "      <td>-0.100721</td>\n",
       "      <td>0.041683</td>\n",
       "      <td>-0.046464</td>\n",
       "      <td>-0.104815</td>\n",
       "      <td>-0.599220</td>\n",
       "    </tr>\n",
       "    <tr>\n",
       "      <th>Product Name</th>\n",
       "      <td>-0.100721</td>\n",
       "      <td>1.000000</td>\n",
       "      <td>0.000558</td>\n",
       "      <td>0.061463</td>\n",
       "      <td>0.143094</td>\n",
       "      <td>0.188389</td>\n",
       "    </tr>\n",
       "    <tr>\n",
       "      <th>Product Cost</th>\n",
       "      <td>0.041683</td>\n",
       "      <td>0.000558</td>\n",
       "      <td>1.000000</td>\n",
       "      <td>-0.070945</td>\n",
       "      <td>-0.121707</td>\n",
       "      <td>-0.043012</td>\n",
       "    </tr>\n",
       "    <tr>\n",
       "      <th>Multi Mode TraNosport Flag</th>\n",
       "      <td>-0.046464</td>\n",
       "      <td>0.061463</td>\n",
       "      <td>-0.070945</td>\n",
       "      <td>1.000000</td>\n",
       "      <td>0.038620</td>\n",
       "      <td>0.041208</td>\n",
       "    </tr>\n",
       "    <tr>\n",
       "      <th>Multi Hop Delivery</th>\n",
       "      <td>-0.104815</td>\n",
       "      <td>0.143094</td>\n",
       "      <td>-0.121707</td>\n",
       "      <td>0.038620</td>\n",
       "      <td>1.000000</td>\n",
       "      <td>0.161799</td>\n",
       "    </tr>\n",
       "    <tr>\n",
       "      <th>Delivery Time</th>\n",
       "      <td>-0.599220</td>\n",
       "      <td>0.188389</td>\n",
       "      <td>-0.043012</td>\n",
       "      <td>0.041208</td>\n",
       "      <td>0.161799</td>\n",
       "      <td>1.000000</td>\n",
       "    </tr>\n",
       "  </tbody>\n",
       "</table>\n",
       "</div>"
      ],
      "text/plain": [
       "                            Order Number  Product Name  Product Cost  \\\n",
       "Order Number                    1.000000     -0.100721      0.041683   \n",
       "Product Name                   -0.100721      1.000000      0.000558   \n",
       "Product Cost                    0.041683      0.000558      1.000000   \n",
       "Multi Mode TraNosport Flag     -0.046464      0.061463     -0.070945   \n",
       "Multi Hop Delivery             -0.104815      0.143094     -0.121707   \n",
       "Delivery Time                  -0.599220      0.188389     -0.043012   \n",
       "\n",
       "                            Multi Mode TraNosport Flag  Multi Hop Delivery  \\\n",
       "Order Number                                 -0.046464           -0.104815   \n",
       "Product Name                                  0.061463            0.143094   \n",
       "Product Cost                                 -0.070945           -0.121707   \n",
       "Multi Mode TraNosport Flag                    1.000000            0.038620   \n",
       "Multi Hop Delivery                            0.038620            1.000000   \n",
       "Delivery Time                                 0.041208            0.161799   \n",
       "\n",
       "                            Delivery Time  \n",
       "Order Number                    -0.599220  \n",
       "Product Name                     0.188389  \n",
       "Product Cost                    -0.043012  \n",
       "Multi Mode TraNosport Flag       0.041208  \n",
       "Multi Hop Delivery               0.161799  \n",
       "Delivery Time                    1.000000  "
      ]
     },
     "execution_count": 35,
     "metadata": {},
     "output_type": "execute_result"
    }
   ],
   "source": [
    "df.corr()"
   ]
  },
  {
   "cell_type": "code",
   "execution_count": 36,
   "id": "3daab794",
   "metadata": {},
   "outputs": [],
   "source": [
    "df['Product Size'] = df['Product Size'].replace('Small', 0)\n",
    "df['Product Size'] = df['Product Size'].replace('Large', 3)\n",
    "df['Product Size'] = df['Product Size'].replace('Small-Medium', 1)\n",
    "df['Product Size'] = df['Product Size'].replace('Medium', 2)"
   ]
  },
  {
   "cell_type": "code",
   "execution_count": 37,
   "id": "48740e36",
   "metadata": {},
   "outputs": [
    {
     "data": {
      "text/html": [
       "<div>\n",
       "<style scoped>\n",
       "    .dataframe tbody tr th:only-of-type {\n",
       "        vertical-align: middle;\n",
       "    }\n",
       "\n",
       "    .dataframe tbody tr th {\n",
       "        vertical-align: top;\n",
       "    }\n",
       "\n",
       "    .dataframe thead th {\n",
       "        text-align: right;\n",
       "    }\n",
       "</style>\n",
       "<table border=\"1\" class=\"dataframe\">\n",
       "  <thead>\n",
       "    <tr style=\"text-align: right;\">\n",
       "      <th></th>\n",
       "      <th>Order Number</th>\n",
       "      <th>Product Name</th>\n",
       "      <th>Product Cost</th>\n",
       "      <th>Multi Mode TraNosport Flag</th>\n",
       "      <th>Multi Hop Delivery</th>\n",
       "      <th>Product Size</th>\n",
       "      <th>Delivery Time</th>\n",
       "    </tr>\n",
       "  </thead>\n",
       "  <tbody>\n",
       "    <tr>\n",
       "      <th>Order Number</th>\n",
       "      <td>1.000000</td>\n",
       "      <td>-0.100721</td>\n",
       "      <td>0.041683</td>\n",
       "      <td>-0.046464</td>\n",
       "      <td>-0.104815</td>\n",
       "      <td>-0.102213</td>\n",
       "      <td>-0.599220</td>\n",
       "    </tr>\n",
       "    <tr>\n",
       "      <th>Product Name</th>\n",
       "      <td>-0.100721</td>\n",
       "      <td>1.000000</td>\n",
       "      <td>0.000558</td>\n",
       "      <td>0.061463</td>\n",
       "      <td>0.143094</td>\n",
       "      <td>0.105868</td>\n",
       "      <td>0.188389</td>\n",
       "    </tr>\n",
       "    <tr>\n",
       "      <th>Product Cost</th>\n",
       "      <td>0.041683</td>\n",
       "      <td>0.000558</td>\n",
       "      <td>1.000000</td>\n",
       "      <td>-0.070945</td>\n",
       "      <td>-0.121707</td>\n",
       "      <td>-0.537882</td>\n",
       "      <td>-0.043012</td>\n",
       "    </tr>\n",
       "    <tr>\n",
       "      <th>Multi Mode TraNosport Flag</th>\n",
       "      <td>-0.046464</td>\n",
       "      <td>0.061463</td>\n",
       "      <td>-0.070945</td>\n",
       "      <td>1.000000</td>\n",
       "      <td>0.038620</td>\n",
       "      <td>0.011889</td>\n",
       "      <td>0.041208</td>\n",
       "    </tr>\n",
       "    <tr>\n",
       "      <th>Multi Hop Delivery</th>\n",
       "      <td>-0.104815</td>\n",
       "      <td>0.143094</td>\n",
       "      <td>-0.121707</td>\n",
       "      <td>0.038620</td>\n",
       "      <td>1.000000</td>\n",
       "      <td>0.418264</td>\n",
       "      <td>0.161799</td>\n",
       "    </tr>\n",
       "    <tr>\n",
       "      <th>Product Size</th>\n",
       "      <td>-0.102213</td>\n",
       "      <td>0.105868</td>\n",
       "      <td>-0.537882</td>\n",
       "      <td>0.011889</td>\n",
       "      <td>0.418264</td>\n",
       "      <td>1.000000</td>\n",
       "      <td>0.123070</td>\n",
       "    </tr>\n",
       "    <tr>\n",
       "      <th>Delivery Time</th>\n",
       "      <td>-0.599220</td>\n",
       "      <td>0.188389</td>\n",
       "      <td>-0.043012</td>\n",
       "      <td>0.041208</td>\n",
       "      <td>0.161799</td>\n",
       "      <td>0.123070</td>\n",
       "      <td>1.000000</td>\n",
       "    </tr>\n",
       "  </tbody>\n",
       "</table>\n",
       "</div>"
      ],
      "text/plain": [
       "                            Order Number  Product Name  Product Cost  \\\n",
       "Order Number                    1.000000     -0.100721      0.041683   \n",
       "Product Name                   -0.100721      1.000000      0.000558   \n",
       "Product Cost                    0.041683      0.000558      1.000000   \n",
       "Multi Mode TraNosport Flag     -0.046464      0.061463     -0.070945   \n",
       "Multi Hop Delivery             -0.104815      0.143094     -0.121707   \n",
       "Product Size                   -0.102213      0.105868     -0.537882   \n",
       "Delivery Time                  -0.599220      0.188389     -0.043012   \n",
       "\n",
       "                            Multi Mode TraNosport Flag  Multi Hop Delivery  \\\n",
       "Order Number                                 -0.046464           -0.104815   \n",
       "Product Name                                  0.061463            0.143094   \n",
       "Product Cost                                 -0.070945           -0.121707   \n",
       "Multi Mode TraNosport Flag                    1.000000            0.038620   \n",
       "Multi Hop Delivery                            0.038620            1.000000   \n",
       "Product Size                                  0.011889            0.418264   \n",
       "Delivery Time                                 0.041208            0.161799   \n",
       "\n",
       "                            Product Size  Delivery Time  \n",
       "Order Number                   -0.102213      -0.599220  \n",
       "Product Name                    0.105868       0.188389  \n",
       "Product Cost                   -0.537882      -0.043012  \n",
       "Multi Mode TraNosport Flag      0.011889       0.041208  \n",
       "Multi Hop Delivery              0.418264       0.161799  \n",
       "Product Size                    1.000000       0.123070  \n",
       "Delivery Time                   0.123070       1.000000  "
      ]
     },
     "execution_count": 37,
     "metadata": {},
     "output_type": "execute_result"
    }
   ],
   "source": [
    "df.corr()"
   ]
  },
  {
   "cell_type": "code",
   "execution_count": 38,
   "id": "1f7d1d4a",
   "metadata": {},
   "outputs": [],
   "source": [
    "features=[\"Product Name\",'Multi Hop Delivery','Product Size']\n",
    "X=df[features]\n",
    "Y=df[\"Delivery Time\"]"
   ]
  },
  {
   "cell_type": "code",
   "execution_count": 39,
   "id": "ca4cf0bf",
   "metadata": {},
   "outputs": [
    {
     "data": {
      "text/plain": [
       "LinearRegression()"
      ]
     },
     "execution_count": 39,
     "metadata": {},
     "output_type": "execute_result"
    }
   ],
   "source": [
    "X_train, X_test, y_train, y_test = train_test_split(X, y, test_size=0.2, random_state=42)\n",
    "\n",
    "# Reshape y_train and y_test to column vectors\n",
    "y_train_reshaped = np.array(y_train).reshape(-1, 1)\n",
    "y_test_reshaped = np.array(y_test).reshape(-1, 1)\n",
    "\n",
    "# Create and fit the linear regression model\n",
    "model = LinearRegression()\n",
    "model.fit(X_train, y_train_reshaped)"
   ]
  },
  {
   "cell_type": "code",
   "execution_count": 40,
   "id": "c1038210",
   "metadata": {},
   "outputs": [
    {
     "name": "stdout",
     "output_type": "stream",
     "text": [
      "5809.060327216392\n"
     ]
    }
   ],
   "source": [
    "X_test_reshaped = np.array(X_test).reshape(-1, 1)\n",
    "y_pred = model.predict(X_test)\n",
    "y_pred_reshaped = np.array(y_pred).reshape(-1, 1)\n",
    "mse = mean_squared_error(y_test_reshaped, y_pred_reshaped)\n",
    "print(mse)"
   ]
  },
  {
   "cell_type": "code",
   "execution_count": 41,
   "id": "f2039479",
   "metadata": {},
   "outputs": [
    {
     "name": "stdout",
     "output_type": "stream",
     "text": [
      "0.3759491596181759\n"
     ]
    }
   ],
   "source": [
    "r2 = r2_score(y_test, y_pred)\n",
    "print(r2)"
   ]
  },
  {
   "cell_type": "code",
   "execution_count": 42,
   "id": "22e2d61b",
   "metadata": {},
   "outputs": [
    {
     "data": {
      "image/png": "[encoded data removed]",
      "text/plain": [
       "<Figure size 720x432 with 1 Axes>"
      ]
     },
     "metadata": {
      "needs_background": "light"
     },
     "output_type": "display_data"
    }
   ],
   "source": [
    "results = pd.DataFrame({'Actual': y_test, 'Predicted': y_pred.flatten()})\n",
    "\n",
    "# Sort the DataFrame based on the 'Actual' values for better visualization\n",
    "results.sort_values(by='Actual', inplace=True)\n",
    "\n",
    "# Plot the original and predicted values\n",
    "plt.figure(figsize=(10, 6))\n",
    "plt.plot(results['Actual'].values, label='Actual')\n",
    "plt.plot(results['Predicted'].values, label='Predicted')\n",
    "plt.title('Actual vs Predicted Values')\n",
    "plt.xlabel('Data Points')\n",
    "plt.ylabel('Values')\n",
    "plt.legend()\n",
    "plt.show()"
   ]
  },
  {
   "cell_type": "code",
   "execution_count": 43,
   "id": "fcf41b73",
   "metadata": {},
   "outputs": [],
   "source": [
    "from sklearn.tree import DecisionTreeRegressor\n",
    "dt_reg = DecisionTreeRegressor(random_state=0)\n",
    "\n",
    "# Fit the model\n",
    "dt_reg.fit(X_train, y_train)\n",
    "\n",
    "# Predictions on the test set\n",
    "y_pred_dt = dt_reg.predict(X_test)"
   ]
  },
  {
   "cell_type": "code",
   "execution_count": 45,
   "id": "d635c4ce",
   "metadata": {},
   "outputs": [
    {
     "name": "stdout",
     "output_type": "stream",
     "text": [
      "Mean Squared Error (Decision Tree): 4008.819462227913\n"
     ]
    },
    {
     "data": {
      "text/plain": [
       "<matplotlib.collections.PathCollection at 0x14ae2e4ddc0>"
      ]
     },
     "execution_count": 45,
     "metadata": {},
     "output_type": "execute_result"
    },
    {
     "data": {
      "image/png": "[encoded data removed]",
      "text/plain": [
       "<Figure size 432x288 with 1 Axes>"
      ]
     },
     "metadata": {
      "needs_background": "light"
     },
     "output_type": "display_data"
    }
   ],
   "source": [
    "mse_dt = mean_squared_error(y_test, y_pred_dt)\n",
    "print(\"Mean Squared Error (Decision Tree):\", mse_dt)\n",
    "\n",
    "plt.scatter(X_test['Product Name'], y_test, color='black', label='Actual')\n",
    "plt.scatter(X_test['Product Name'], y_pred_dt, color='red', label='Predicted')"
   ]
  },
  {
   "cell_type": "code",
   "execution_count": 47,
   "id": "150dcfb8",
   "metadata": {},
   "outputs": [
    {
     "data": {
      "image/png": "[encoded data removed]",
      "text/plain": [
       "<Figure size 720x432 with 1 Axes>"
      ]
     },
     "metadata": {
      "needs_background": "light"
     },
     "output_type": "display_data"
    }
   ],
   "source": [
    "results = pd.DataFrame({'Actual': y_test, 'Predicted': y_pred_dt.flatten()})\n",
    "\n",
    "# Sort the DataFrame based on the 'Actual' values for better visualization\n",
    "results.sort_values(by='Actual', inplace=True)\n",
    "\n",
    "# Plot the original and predicted values\n",
    "plt.figure(figsize=(10, 6))\n",
    "plt.plot(results['Actual'].values, label='Actual')\n",
    "plt.plot(results['Predicted'].values, label='Predicted')\n",
    "plt.title('Actual vs Predicted Values')\n",
    "plt.xlabel('Data Points')\n",
    "plt.ylabel('Values')\n",
    "plt.legend()\n",
    "plt.show()"
   ]
  },
  {
   "cell_type": "code",
   "execution_count": 50,
   "id": "0052c2d0",
   "metadata": {},
   "outputs": [
    {
     "name": "stdout",
     "output_type": "stream",
     "text": [
      "Epoch 1/50\n",
      "196/196 [==============================] - 3s 4ms/step - loss: 1578686464.0000\n",
      "Epoch 2/50\n",
      "196/196 [==============================] - 1s 4ms/step - loss: 14198.1025\n",
      "Epoch 3/50\n",
      "196/196 [==============================] - 1s 4ms/step - loss: 14214.6113\n",
      "Epoch 4/50\n",
      "196/196 [==============================] - 1s 3ms/step - loss: 14213.7373\n",
      "Epoch 5/50\n",
      "196/196 [==============================] - 1s 4ms/step - loss: 14205.8867\n",
      "Epoch 6/50\n",
      "196/196 [==============================] - 1s 4ms/step - loss: 14231.0498\n",
      "Epoch 7/50\n",
      "196/196 [==============================] - 1s 4ms/step - loss: 14222.0117\n",
      "Epoch 8/50\n",
      "196/196 [==============================] - 1s 4ms/step - loss: 14230.6064\n",
      "Epoch 9/50\n",
      "196/196 [==============================] - 1s 4ms/step - loss: 14227.6699\n",
      "Epoch 10/50\n",
      "196/196 [==============================] - 1s 4ms/step - loss: 14239.0635\n",
      "Epoch 11/50\n",
      "196/196 [==============================] - 1s 3ms/step - loss: 14273.8213\n",
      "Epoch 12/50\n",
      "196/196 [==============================] - 1s 3ms/step - loss: 14264.6377\n",
      "Epoch 13/50\n",
      "196/196 [==============================] - 1s 4ms/step - loss: 14285.2070\n",
      "Epoch 14/50\n",
      "196/196 [==============================] - 1s 4ms/step - loss: 14292.5039\n",
      "Epoch 15/50\n",
      "196/196 [==============================] - 1s 4ms/step - loss: 14346.0859\n",
      "Epoch 16/50\n",
      "196/196 [==============================] - 1s 4ms/step - loss: 14314.9453\n",
      "Epoch 17/50\n",
      "196/196 [==============================] - 1s 4ms/step - loss: 14336.9316\n",
      "Epoch 18/50\n",
      "196/196 [==============================] - 1s 4ms/step - loss: 14292.6006\n",
      "Epoch 19/50\n",
      "196/196 [==============================] - 1s 4ms/step - loss: 14306.6055\n",
      "Epoch 20/50\n",
      "196/196 [==============================] - 1s 4ms/step - loss: 14342.7393\n",
      "Epoch 21/50\n",
      "196/196 [==============================] - 1s 4ms/step - loss: 14335.9785\n",
      "Epoch 22/50\n",
      "196/196 [==============================] - 1s 4ms/step - loss: 14380.7832\n",
      "Epoch 23/50\n",
      "196/196 [==============================] - 1s 4ms/step - loss: 14413.4229\n",
      "Epoch 24/50\n",
      "196/196 [==============================] - 1s 4ms/step - loss: 14357.3242\n",
      "Epoch 25/50\n",
      "196/196 [==============================] - 1s 4ms/step - loss: 14385.7090\n",
      "Epoch 26/50\n",
      "196/196 [==============================] - 1s 3ms/step - loss: 14410.8525\n",
      "Epoch 27/50\n",
      "196/196 [==============================] - 1s 4ms/step - loss: 14405.9922\n",
      "Epoch 28/50\n",
      "196/196 [==============================] - 1s 4ms/step - loss: 14602.9434\n",
      "Epoch 29/50\n",
      "196/196 [==============================] - 1s 4ms/step - loss: 14936.5713\n",
      "Epoch 30/50\n",
      "196/196 [==============================] - 1s 3ms/step - loss: 14750.8467\n",
      "Epoch 31/50\n",
      "196/196 [==============================] - 1s 4ms/step - loss: 14977.7627\n",
      "Epoch 32/50\n",
      "196/196 [==============================] - 1s 4ms/step - loss: 14800.7188\n",
      "Epoch 33/50\n",
      "196/196 [==============================] - 1s 4ms/step - loss: 14776.1436\n",
      "Epoch 34/50\n",
      "196/196 [==============================] - 1s 4ms/step - loss: 15632.3047\n",
      "Epoch 35/50\n",
      "196/196 [==============================] - 1s 4ms/step - loss: 14756.7422\n",
      "Epoch 36/50\n",
      "196/196 [==============================] - 1s 3ms/step - loss: 14751.1035\n",
      "Epoch 37/50\n",
      "196/196 [==============================] - 1s 3ms/step - loss: 15326.4463\n",
      "Epoch 38/50\n",
      "196/196 [==============================] - 1s 3ms/step - loss: 15057.4971\n",
      "Epoch 39/50\n",
      "196/196 [==============================] - 1s 3ms/step - loss: 17102.6211\n",
      "Epoch 40/50\n",
      "196/196 [==============================] - 1s 4ms/step - loss: 16354.0293\n",
      "Epoch 41/50\n",
      "196/196 [==============================] - 1s 4ms/step - loss: 16233.2734\n",
      "Epoch 42/50\n",
      "196/196 [==============================] - 1s 5ms/step - loss: 16027.5098\n",
      "Epoch 43/50\n",
      "196/196 [==============================] - 1s 4ms/step - loss: 18573.3672\n",
      "Epoch 44/50\n",
      "196/196 [==============================] - 1s 4ms/step - loss: 18528.3965\n",
      "Epoch 45/50\n",
      "196/196 [==============================] - 1s 4ms/step - loss: 20097.1543\n",
      "Epoch 46/50\n",
      "196/196 [==============================] - 1s 4ms/step - loss: 24524.5410\n",
      "Epoch 47/50\n",
      "196/196 [==============================] - 1s 4ms/step - loss: 38272.8867\n",
      "Epoch 48/50\n",
      "196/196 [==============================] - 1s 4ms/step - loss: 29107.0977\n",
      "Epoch 49/50\n",
      "196/196 [==============================] - 1s 4ms/step - loss: 32933.9688\n",
      "Epoch 50/50\n",
      "196/196 [==============================] - 1s 4ms/step - loss: 35576.4570\n",
      "Mean Squared Error: 112109.09145106965\n"
     ]
    }
   ],
   "source": [
    "#worst model scenario-used for nlp,img processing\n",
    "import tensorflow as tf\n",
    "from tensorflow.keras.models import Sequential\n",
    "from tensorflow.keras.layers import LSTM, Dense\n",
    "\n",
    "X_train = X_train.to_numpy()\n",
    "X_test= X_test.to_numpy()\n",
    "X_train = X_train.reshape((X_train.shape[0], 1, X_train.shape[1]))\n",
    "X_test = X_test.reshape((X_test.shape[0], 1, X_test.shape[1]))\n",
    "\n",
    "model = Sequential()\n",
    "model.add(LSTM(units=50, activation='relu', input_shape=(1, X_train.shape[2])))\n",
    "model.add(Dense(units=1))  #op\n",
    "\n",
    "model.compile(optimizer='adam', loss='mean_squared_error')\n",
    "\n",
    "model.fit(X_train, y_train, epochs=50, batch_size=32)\n",
    "\n",
    "y_pred = model.predict(X_test)\n",
    "\n",
    "mse = mean_squared_error(y_test, y_pred)\n",
    "print(\"Mean Squared Error:\", mse)\n"
   ]
  },
  {
   "cell_type": "code",
   "execution_count": 52,
   "id": "d3370c10",
   "metadata": {},
   "outputs": [
    {
     "data": {
      "image/png": "[encoded data removed]",
      "text/plain": [
       "<Figure size 720x432 with 1 Axes>"
      ]
     },
     "metadata": {
      "needs_background": "light"
     },
     "output_type": "display_data"
    }
   ],
   "source": [
    "results = pd.DataFrame({'Actual': y_test, 'Predicted': y_pred.flatten()})\n",
    "\n",
    "# Sort the DataFrame based on the 'Actual' values for better visualization\n",
    "results.sort_values(by='Actual', inplace=True)\n",
    "\n",
    "# Plot the original and predicted values\n",
    "plt.figure(figsize=(10, 6))\n",
    "plt.plot(results['Actual'].values, label='Actual')\n",
    "plt.plot(results['Predicted'].values, label='Predicted')\n",
    "plt.title('Actual vs Predicted Values')\n",
    "plt.xlabel('Data Points')\n",
    "plt.ylabel('Values')\n",
    "plt.legend()\n",
    "plt.show()"
   ]
  },
  {
   "cell_type": "code",
   "execution_count": null,
   "id": "60c150c4",
   "metadata": {},
   "outputs": [],
   "source": []
  }
 ],
 "metadata": {
  "kernelspec": {
   "display_name": "Python 3 (ipykernel)",
   "language": "python",
   "name": "python3"
  },
  "language_info": {
   "codemirror_mode": {
    "name": "ipython",
    "version": 3
   },
   "file_extension": ".py",
   "mimetype": "text/x-python",
   "name": "python",
   "nbconvert_exporter": "python",
   "pygments_lexer": "ipython3",
   "version": "3.9.7"
  }
 },
 "nbformat": 4,
 "nbformat_minor": 5
}
